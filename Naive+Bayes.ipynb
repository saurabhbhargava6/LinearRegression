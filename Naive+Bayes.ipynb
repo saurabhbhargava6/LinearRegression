{
  "nbformat": 4,
  "nbformat_minor": 0,
  "metadata": {
    "colab": {
      "provenance": [],
      "authorship_tag": "ABX9TyN9Ei/748idpcJp1fUZ1F95",
      "include_colab_link": true
    },
    "kernelspec": {
      "name": "python3",
      "display_name": "Python 3"
    },
    "language_info": {
      "name": "python"
    }
  },
  "cells": [
    {
      "cell_type": "markdown",
      "metadata": {
        "id": "view-in-github",
        "colab_type": "text"
      },
      "source": [
        "<a href=\"https://colab.research.google.com/github/saurabhbhargava6/LinearRegression/blob/main/Naive%2BBayes.ipynb\" target=\"_parent\"><img src=\"https://colab.research.google.com/assets/colab-badge.svg\" alt=\"Open In Colab\"/></a>"
      ]
    },
    {
      "cell_type": "code",
      "execution_count": null,
      "metadata": {
        "colab": {
          "base_uri": "https://localhost:8080/"
        },
        "id": "uKoumsRO_4D9",
        "outputId": "6066d39e-9031-4f75-bc0f-200cb9475137"
      },
      "outputs": [
        {
          "output_type": "stream",
          "name": "stdout",
          "text": [
            "  class                                               text\n",
            "0   Pos   a common complaint amongst film critics is   ...\n",
            "1   Pos   whew   this film oozes energy   the kind of b...\n",
            "2   Pos   steven spielberg s   amistad     which is bas...\n",
            "3   Pos   he has spent his entire life in an awful litt...\n",
            "4   Pos   being that it is a foreign language film with...\n",
            "<class 'pandas.core.frame.DataFrame'>\n",
            "RangeIndex: 1600 entries, 0 to 1599\n",
            "Data columns (total 2 columns):\n",
            " #   Column  Non-Null Count  Dtype \n",
            "---  ------  --------------  ----- \n",
            " 0   class   1600 non-null   object\n",
            " 1   text    1600 non-null   object\n",
            "dtypes: object(2)\n",
            "memory usage: 25.1+ KB\n",
            "None\n",
            "Size of vocabulary after removing stop words: 35858\n"
          ]
        }
      ],
      "source": [
        "import pandas as pd\n",
        "from sklearn.feature_extraction.text import CountVectorizer\n",
        "from sklearn.feature_extraction.text import ENGLISH_STOP_WORDS\n",
        "\n",
        "# URL of the training dataset\n",
        "train_data_url = \"https://ml-course2-upgrad.s3.amazonaws.com/Naive+Bayes/Naive+Bayes+for+Text+Classification/movie_review_train.csv\"\n",
        "\n",
        "# Load the training dataset from the URL\n",
        "train_data = pd.read_csv(train_data_url)\n",
        "\n",
        "# Display the first few rows and dataset information\n",
        "print(train_data.head())\n",
        "print(train_data.info())\n",
        "\n",
        "# Create a CountVectorizer with custom stop words\n",
        "vectorizer = CountVectorizer(stop_words=\"english\")\n",
        "\n",
        "# Fit and transform the text data\n",
        "X_train = vectorizer.fit_transform(train_data['text'])\n",
        "\n",
        "# Get the vocabulary size\n",
        "vocabulary_size = len(vectorizer.get_feature_names_out())\n",
        "\n",
        "print(\"Size of vocabulary after removing stop words:\", vocabulary_size)\n"
      ]
    },
    {
      "cell_type": "code",
      "source": [
        "import pandas as pd\n",
        "from sklearn.feature_extraction.text import CountVectorizer\n",
        "\n",
        "# URL of the training dataset\n",
        "train_data_url = \"https://ml-course2-upgrad.s3.amazonaws.com/Naive+Bayes/Naive+Bayes+for+Text+Classification/movie_review_train.csv\"\n",
        "\n",
        "# Load the training dataset from the URL\n",
        "train_data = pd.read_csv(train_data_url)\n",
        "\n",
        "# Create a CountVectorizer with specified parameters\n",
        "vectorizer = CountVectorizer(stop_words='english', min_df=.03, max_df=.8)\n",
        "\n",
        "# Fit and transform the text data\n",
        "X_train = vectorizer.fit_transform(train_data['text'])\n",
        "\n",
        "# Get the vocabulary size\n",
        "new_vocabulary_size = len(vectorizer.get_feature_names_out())\n",
        "\n",
        "print(\"Size of the new vocabulary:\", new_vocabulary_size)\n"
      ],
      "metadata": {
        "colab": {
          "base_uri": "https://localhost:8080/"
        },
        "id": "2iLDLZe9AWfY",
        "outputId": "436776fc-a161-4c45-90b8-a3f922fe8f2a"
      },
      "execution_count": null,
      "outputs": [
        {
          "output_type": "stream",
          "name": "stdout",
          "text": [
            "Size of the new vocabulary: 1643\n"
          ]
        }
      ]
    },
    {
      "cell_type": "code",
      "source": [
        "import pandas as pd\n",
        "from sklearn.feature_extraction.text import CountVectorizer\n",
        "\n",
        "# URL of the training and test datasets\n",
        "train_data_url = \"https://ml-course2-upgrad.s3.amazonaws.com/Naive+Bayes/Naive+Bayes+for+Text+Classification/movie_review_train.csv\"\n",
        "test_data_url = \"https://ml-course2-upgrad.s3.amazonaws.com/Naive+Bayes/Naive+Bayes+for+Text+Classification/movie_review_test.csv\"\n",
        "\n",
        "# Load the training and test datasets from the URLs\n",
        "train_data = pd.read_csv(train_data_url)\n",
        "test_data = pd.read_csv(test_data_url)\n",
        "\n",
        "# Create a CountVectorizer with specified parameters for training data\n",
        "vectorizer = CountVectorizer(stop_words='english', min_df=.03, max_df=.8)\n",
        "\n",
        "# Fit and transform the training text data\n",
        "X_train = vectorizer.fit_transform(train_data['text'])\n",
        "\n",
        "# Create a CountVectorizer for test data using the vocabulary from training data\n",
        "vectorizer_test = CountVectorizer(vocabulary=vectorizer.vocabulary_)\n",
        "\n",
        "# Transform the test text data\n",
        "X_test = vectorizer_test.transform(test_data['text'])\n",
        "\n",
        "# Count the nonzero entries in the sparse matrix\n",
        "nonzero_entries = X_test.nnz\n",
        "\n",
        "print(\"Number of nonzero entries in the sparse matrix:\", nonzero_entries)\n"
      ],
      "metadata": {
        "colab": {
          "base_uri": "https://localhost:8080/"
        },
        "id": "LJ7MmDFKCQXT",
        "outputId": "d53815e3-78a5-4614-c22e-1d59832961bc"
      },
      "execution_count": null,
      "outputs": [
        {
          "output_type": "stream",
          "name": "stdout",
          "text": [
            "Number of nonzero entries in the sparse matrix: 51663\n"
          ]
        }
      ]
    },
    {
      "cell_type": "code",
      "source": [
        "import pandas as pd\n",
        "from sklearn.feature_extraction.text import CountVectorizer\n",
        "from sklearn.naive_bayes import BernoulliNB\n",
        "from sklearn.metrics import accuracy_score\n",
        "\n",
        "# Load the training and test datasets\n",
        "train_data = pd.read_csv(\"https://ml-course2-upgrad.s3.amazonaws.com/Naive+Bayes/Naive+Bayes+for+Text+Classification/movie_review_train.csv\")\n",
        "test_data = pd.read_csv(\"https://ml-course2-upgrad.s3.amazonaws.com/Naive+Bayes/Naive+Bayes+for+Text+Classification/movie_review_test.csv\")\n",
        "\n",
        "# Create a CountVectorizer with specified parameters for training data\n",
        "vectorizer = CountVectorizer(stop_words='english', min_df=.03, max_df=.8)\n",
        "\n",
        "# Fit and transform the training text data\n",
        "X_train = vectorizer.fit_transform(train_data['text'])\n",
        "\n",
        "# Transform the test text data using the same vocabulary as the training data\n",
        "X_test = vectorizer.transform(test_data['text'])\n",
        "\n",
        "# Initialize the Bernoulli Naive Bayes model\n",
        "model = BernoulliNB()\n",
        "\n",
        "# Train the model on the training data\n",
        "model.fit(X_train, train_data['class'])\n",
        "\n",
        "# Predict the classes of the test data\n",
        "predictions = model.predict(X_test)\n",
        "\n",
        "# Calculate the accuracy of the model\n",
        "accuracy = accuracy_score(test_data['class'], predictions)\n",
        "\n",
        "print(\"Accuracy of the model:\", accuracy)\n"
      ],
      "metadata": {
        "colab": {
          "base_uri": "https://localhost:8080/"
        },
        "id": "uhYWvZeLCcAe",
        "outputId": "7bd30d7c-198e-476f-c7eb-bdf12af93375"
      },
      "execution_count": null,
      "outputs": [
        {
          "output_type": "stream",
          "name": "stdout",
          "text": [
            "Accuracy of the model: 0.79\n"
          ]
        }
      ]
    },
    {
      "cell_type": "code",
      "source": [
        "import pandas as pd\n",
        "from sklearn.feature_extraction.text import CountVectorizer\n",
        "from sklearn.naive_bayes import BernoulliNB\n",
        "from sklearn.metrics import confusion_matrix\n",
        "\n",
        "# Load the training and test datasets\n",
        "train_data = pd.read_csv(\"https://ml-course2-upgrad.s3.amazonaws.com/Naive+Bayes/Naive+Bayes+for+Text+Classification/movie_review_train.csv\")\n",
        "test_data = pd.read_csv(\"https://ml-course2-upgrad.s3.amazonaws.com/Naive+Bayes/Naive+Bayes+for+Text+Classification/movie_review_test.csv\")\n",
        "\n",
        "# Create a CountVectorizer with specified parameters for training data\n",
        "vectorizer = CountVectorizer(stop_words='english', min_df=.03, max_df=.8)\n",
        "\n",
        "# Fit and transform the training text data\n",
        "X_train = vectorizer.fit_transform(train_data['text'])\n",
        "\n",
        "# Transform the test text data using the same vocabulary as the training data\n",
        "X_test = vectorizer.transform(test_data['text'])\n",
        "\n",
        "# Initialize the Bernoulli Naive Bayes model\n",
        "model = BernoulliNB()\n",
        "\n",
        "# Train the model on the training data\n",
        "model.fit(X_train, train_data['class'])\n",
        "\n",
        "# Predict the classes of the test data\n",
        "predictions = model.predict(X_test)\n",
        "\n",
        "# Calculate the confusion matrix\n",
        "conf_matrix = confusion_matrix(test_data['class'], predictions)\n",
        "\n",
        "# Extract the number of reviews actually negative but classified as positive (FN)\n",
        "fn_count = conf_matrix[0][1]\n",
        "\n",
        "print(\"Number of reviews actually negative but classified as positive:\", fn_count)\n"
      ],
      "metadata": {
        "colab": {
          "base_uri": "https://localhost:8080/"
        },
        "id": "g_BmNPB5CptF",
        "outputId": "92fb1fee-3f2f-4e0d-a73b-0cd034bb6a62"
      },
      "execution_count": null,
      "outputs": [
        {
          "output_type": "stream",
          "name": "stdout",
          "text": [
            "Number of reviews actually negative but classified as positive: 23\n"
          ]
        }
      ]
    },
    {
      "cell_type": "code",
      "source": [],
      "metadata": {
        "id": "QQJtkffZC1tS"
      },
      "execution_count": null,
      "outputs": []
    }
  ]
}